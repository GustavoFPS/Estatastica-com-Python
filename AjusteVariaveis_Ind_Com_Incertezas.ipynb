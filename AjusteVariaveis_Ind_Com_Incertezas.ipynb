{
 "cells": [
  {
   "cell_type": "code",
   "execution_count": 185,
   "metadata": {},
   "outputs": [],
   "source": [
    "import numpy as np\n",
    "import scipy.stats as stats\n",
    "import sympy as sp \n",
    "\n",
    "def y(ti, dti, Na, Nb,l_a = None, l_b = None):\n",
    "    '''\n",
    "    Calcula o valor de uma função y em função de Na, Nb, l_a, l_b, ti e dti.\n",
    "    ''' \n",
    "    return Na*np.exp(-l_a*ti)*(1 - np.exp(-l_a*dti))+Nb*np.exp(-l_b*ti)*(1 - np.exp(-l_b*dti))\n",
    "\n",
    "def derivadas_y(ti, dti, Na, Nb,l_a = None, l_b = None): \n",
    "    '''\n",
    "    Calcula as derivadas parciais de uma função y em relação às variáveis Na, Nb, l_a e l_b.\n",
    "    '''\n",
    "    y = Na*sp.exp(-l_a*ti)*(1 - sp.exp(-l_a*dti))+Nb*sp.exp(-l_b*ti)*(1 - sp.exp(-l_b*dti))\n",
    "    dNa = y.diff(Na)\n",
    "    dNb = y.diff(Nb)\n",
    "    dla = y.diff(l_a)\n",
    "    dlb = y.diff(l_b)\n",
    "    return dNa, dNb, dla, dlb\n",
    "\n",
    "def incerteza(derivadas, sigma_Na, sigma_Nb, sigma_la, sigma_lb, sigma_Na_Nb): \n",
    "    '''\n",
    "    Calcula a incerteza de uma função y em relação às variáveis Na, Nb, l_a e l_b.\n",
    "    '''\n",
    "    dNa, dNb, dla, dlb = derivadas\n",
    "    sy = (dNa**2)*sigma_Na**2 + (dNb**2)*sigma_Nb**2 + (dla**2)*sigma_la**2 + (dlb**2)*sigma_lb**2 + 2*dNa*dNb*sigma_Na_Nb\n",
    "    return sy\n",
    "\n",
    "\n",
    "def teste_chi2_direita(chi_quadrado, graus_de_liberdade, nivel_significancia_sup):\n",
    "    '''\n",
    "    chi2: chi2 do ajuste\n",
    "    graus_de_liberdade: graus de liberdade do ajuste\n",
    "    nivel_significancia_sup: nível de significância do teste\n",
    "    '''\n",
    "\n",
    "    # valores críticos\n",
    "    valor_critico_sup = stats.chi2.ppf(1 - nivel_significancia_sup, graus_de_liberdade)\n",
    "\n",
    "\n",
    "    qui_quadrado_reduzido_sup = valor_critico_sup / graus_de_liberdade\n",
    "    print(f\"Limite superior do X²_red: {qui_quadrado_reduzido_sup:.4f}\")\n",
    "    print(f\"O X²_red obtido: {chi_quadrado/graus_de_liberdade}\")\n",
    "\n",
    "    if chi_quadrado/graus_de_liberdade >= qui_quadrado_reduzido_sup:\n",
    "        print('Falhou no teste')\n",
    "    else:\n",
    "        print('Passou no teste')"
   ]
  },
  {
   "cell_type": "code",
   "execution_count": 186,
   "metadata": {},
   "outputs": [],
   "source": [
    "ti, dti, Na, Nb, l_a, l_b = sp.symbols('ti dti Na Nb la lb')\n",
    "derivadas = derivadas_y(ti, dti, Na, Nb, l_a, l_b) # derivadas parciais de y em relação a Na, Nb, l_a e l_b\n",
    "\n",
    "sigma_Na, sigma_Nb, sigma_la, sigma_lb, sigma_Na_Nb = sp.symbols('sigma_Na sigma_Nb sigma_la sigma_lb sigma_Na_Nb')\n",
    "\n",
    "incertezas = incerteza(derivadas_y(ti, dti, Na, Nb, l_a, l_b), sigma_Na, sigma_Nb, sigma_la, sigma_lb, sigma_Na_Nb) # incerteza de y \n",
    "\n",
    "incertezas_func = sp.lambdify((ti, dti, Na, Nb, l_a, l_b, sigma_Na, sigma_Nb, sigma_la, sigma_lb, sigma_Na_Nb), incertezas, 'numpy') # incerteza de y em um formato que aceita numpy\n",
    "\n"
   ]
  },
  {
   "cell_type": "code",
   "execution_count": 187,
   "metadata": {},
   "outputs": [
    {
     "name": "stdout",
     "output_type": "stream",
     "text": [
      "   t(h)  dt(h)      n  sigma\n",
      "0   0.5    1.5  16183    133\n",
      "1   2.2    1.5   5453     84\n",
      "2   3.9    1.5   2646     65\n",
      "3   5.5    3.0   2900     76\n",
      "4   8.7    4.0   1688     76\n"
     ]
    }
   ],
   "source": [
    "#abre o arquivo\n",
    "import pandas as pd\n",
    "import os\n",
    "data = pd.read_csv(r'C:\\Users\\Gustavo\\Documents\\GitHub\\Estatastica-com-Python\\dadosAtividadePratica_4.txt', delimiter='\\t')\n",
    "print(data)\n",
    "ti = np.array(data['t(h)'])\n",
    "dti = np.array(data['dt(h)'])\n",
    "y_data = np.array(data['n'])\n",
    "s_y = np.array(data['sigma'])"
   ]
  },
  {
   "cell_type": "code",
   "execution_count": 188,
   "metadata": {},
   "outputs": [
    {
     "name": "stdout",
     "output_type": "stream",
     "text": [
      "N:  [17969.37515015 25172.24950633]\n",
      "V_y:  [[103617.53419688 -69237.4869057 ]\n",
      " [-69237.4869057  117122.64295431]] \n",
      "\n",
      "Limite superior do X²_red: 3.7816\n",
      "O X²_red obtido: 0.4707473337867436\n",
      "Passou no teste\n",
      "\n",
      " V_final:  [[ 212005.20295158 -195837.62255466]\n",
      " [-195837.62255466  349409.55978059]]\n"
     ]
    }
   ],
   "source": [
    "#faz o ajuste \n",
    "from scipy.optimize import curve_fit\n",
    "import matplotlib.pyplot as plt\n",
    "\n",
    "la = 0.203 #lambdas \n",
    "lb = 0.92\n",
    "D = 0.0001 #delta\n",
    "\n",
    "la1 = la + D #lambda '\n",
    "lb2 = lb + D #lambda ''\n",
    "\n",
    "V_l = (10**(-4))*np.array([[0.81, 0], [0, 3.24]]) #matriz de covariância de l_a e l_b\n",
    "\n",
    "ti_dti_data = np.vstack((ti, dti)) #transforma ti e dti em um array de arrays\n",
    "\n",
    "#MMQ e Chi2\n",
    "N, V_y = curve_fit(lambda td, Na, Nb: y(td[0], td[1], Na, Nb, l_a = la, l_b = lb), ti_dti_data, y_data, absolute_sigma = True, sigma = s_y) \n",
    "\n",
    "print('N: ', N)\n",
    "print('V_y: ', V_y, '\\n')\n",
    "\n",
    "chi_quadrado_ant = np.sum(((y_data - y(ti, dti, N[0], N[1], l_a = la, l_b = lb))**2)/(s_y**2))\n",
    "\n",
    "teste_chi2_direita(chi_quadrado_ant, len(ti) - 2, 0.01)\n",
    "\n",
    "#MMQ para lambda ' e lambda ''\n",
    "N1, V_y1 = curve_fit(lambda td, Na, Nb: y(td[0], td[1], Na, Nb, l_a = la1, l_b = lb), ti_dti_data, y_data, absolute_sigma = True, sigma = s_y)\n",
    "\n",
    "\n",
    "N2, V_y2 = curve_fit(lambda td, Na, Nb: y(td[0], td[1], Na, Nb, l_a = la, l_b = lb2), ti_dti_data, y_data, absolute_sigma = True, sigma = s_y)\n",
    "\n",
    "\n",
    "# parâmetros em cada etapa \n",
    "N_a, N_b = N\n",
    "N_1a, N_1b = N1\n",
    "N_2a, N_2b = N2 \n",
    "\n",
    "#definição da matriz F\n",
    "F11 = (N_1a - N_a)/D\n",
    "F12 = (N_2a - N_a)/D\n",
    "\n",
    "F21 = (N_1b - N_b)/D\n",
    "F22 = (N_2b - N_b)/D\n",
    "\n",
    "F = np.array([[F11, F12],[F21, F22]])\n",
    "\n",
    "#Calculo de V_final\n",
    "V_final_D1 = V_y + F @ V_l @ F.T\n",
    "\n",
    "\n",
    "\n",
    "print('\\n', 'V_final: ', V_final_D1)"
   ]
  },
  {
   "cell_type": "code",
   "execution_count": 189,
   "metadata": {},
   "outputs": [],
   "source": [
    "# Calculo da função no ponto mais sua incerteza\n",
    "y_df = []\n",
    "sy_df = []\n",
    "\n",
    "\n",
    "for i, element in enumerate(ti):\n",
    "\n",
    "    y_df.append(y(element, dti[i], N[0], N[1], l_a = la, l_b = lb))\n",
    "    incerteza_val = np.sqrt(incertezas_func(element, dti[i], N[0], N[1], la, lb, np.sqrt(V_y[0][0]), np.sqrt(V_y[1][1]),np.sqrt(V_l[0][0]), np.sqrt(V_l[1][1]), V_y[0][1]))\n",
    "    \n",
    "    sy_df.append(float(incerteza_val))"
   ]
  },
  {
   "cell_type": "code",
   "execution_count": 190,
   "metadata": {},
   "outputs": [
    {
     "name": "stdout",
     "output_type": "stream",
     "text": [
      "   t(h)  dt(h)      n  sigma  N_ajuste  sigma_N_ajuste\n",
      "0   0.5    1.5  16183    133     16154             191\n",
      "1   2.2    1.5   5453     84      5507             102\n",
      "2   3.9    1.5   2646     65      2658              47\n",
      "3   5.5    3.0   2900     76      2833              67\n",
      "4   8.7    4.0   1688     76      1716              90\n"
     ]
    }
   ],
   "source": [
    "#Acrescenta na tabela\n",
    "data['N_ajuste'] = y_df\n",
    "data['sigma_N_ajuste'] = sy_df\n",
    "data['N_ajuste']  = data['N_ajuste'].astype(int)\n",
    "data['sigma_N_ajuste'] = data['sigma_N_ajuste'].astype(int)\n",
    "print(data)"
   ]
  },
  {
   "cell_type": "code",
   "execution_count": 191,
   "metadata": {},
   "outputs": [
    {
     "name": "stdout",
     "output_type": "stream",
     "text": [
      "\\begin{tabular}{rrrrrr}\n",
      "\\toprule\n",
      "t(h) & dt(h) & n & sigma & N_ajuste & sigma_N_ajuste \\\\\n",
      "\\midrule\n",
      "0.500000 & 1.500000 & 16183 & 133 & 16154 & 191 \\\\\n",
      "2.200000 & 1.500000 & 5453 & 84 & 5507 & 102 \\\\\n",
      "3.900000 & 1.500000 & 2646 & 65 & 2658 & 47 \\\\\n",
      "5.500000 & 3.000000 & 2900 & 76 & 2833 & 67 \\\\\n",
      "8.700000 & 4.000000 & 1688 & 76 & 1716 & 90 \\\\\n",
      "\\bottomrule\n",
      "\\end{tabular}\n",
      "\n"
     ]
    }
   ],
   "source": [
    "#converte tabela em formato latex\n",
    "tabela = data.to_latex(index=False) \n",
    "print(tabela)"
   ]
  },
  {
   "cell_type": "code",
   "execution_count": 192,
   "metadata": {},
   "outputs": [
    {
     "name": "stdout",
     "output_type": "stream",
     "text": [
      "Limite superior do X²_red: 2.6049\n",
      "O X²_red obtido: 0.4707473337867436\n",
      "Passou no teste\n",
      "[[ 212288.52931858 -196268.7322835 ]\n",
      " [-196268.7322835   349707.4125486 ]]\n"
     ]
    }
   ],
   "source": [
    "#teste para \\Delta diferente \n",
    "\n",
    "from scipy.optimize import curve_fit\n",
    "import matplotlib.pyplot as plt\n",
    "\n",
    "la = 0.203\n",
    "lb = 0.92\n",
    "D = 0.001\n",
    "\n",
    "la1 = la + D\n",
    "lb2 = lb + D\n",
    "\n",
    "V_l = (10**(-4))*np.array([[0.81, 0], [0, 3.24]])\n",
    "\n",
    "ti_dti_data = np.vstack((ti, dti))\n",
    "\n",
    "N, V_y = curve_fit(lambda td, Na, Nb: y(td[0], td[1], Na, Nb, l_a = la, l_b = lb), ti_dti_data, y_data, absolute_sigma = True, sigma = s_y)\n",
    "\n",
    "chi_quadrado_ant = np.sum(((y_data - y(ti, dti, N[0], N[1], l_a = la, l_b = lb))**2)/(s_y**2))\n",
    "\n",
    "teste_chi2_direita(chi_quadrado_ant, len(ti) - 2, 0.05)\n",
    "\n",
    "N1, V_y1 = curve_fit(lambda td, Na, Nb: y(td[0], td[1], Na, Nb, l_a = la1, l_b = lb), ti_dti_data, y_data, absolute_sigma = True, sigma = s_y)\n",
    "\n",
    "\n",
    "N2, V_y2 = curve_fit(lambda td, Na, Nb: y(td[0], td[1], Na, Nb, l_a = la, l_b = lb2), ti_dti_data, y_data, absolute_sigma = True, sigma = s_y)\n",
    "\n",
    "\n",
    "N_a, N_b = N\n",
    "N_1a, N_1b = N1\n",
    "N_2a, N_2b = N2 \n",
    "\n",
    "F11 = (N_1a - N_a)/D\n",
    "F12 = (N_2a - N_a)/D\n",
    "\n",
    "F21 = (N_1b - N_b)/D\n",
    "F22 = (N_2b - N_b)/D\n",
    "\n",
    "F = np.array([[F11, F12],[F21, F22]])\n",
    "\n",
    "V_final_D2 = V_y + F @ V_l @ F.T\n",
    "print(V_final_D2)\n"
   ]
  },
  {
   "cell_type": "code",
   "execution_count": 193,
   "metadata": {},
   "outputs": [
    {
     "name": "stdout",
     "output_type": "stream",
     "text": [
      "[[0.13364123 0.22013632]\n",
      " [0.22013632 0.0852446 ]]\n"
     ]
    }
   ],
   "source": [
    "#verificação da diferença do delta no resultado final em porcentagem  \n",
    "print(100*(V_final_D2 - V_final_D1)/V_final_D1)"
   ]
  },
  {
   "cell_type": "markdown",
   "metadata": {},
   "source": []
  }
 ],
 "metadata": {
  "kernelspec": {
   "display_name": "base",
   "language": "python",
   "name": "python3"
  },
  "language_info": {
   "codemirror_mode": {
    "name": "ipython",
    "version": 3
   },
   "file_extension": ".py",
   "mimetype": "text/x-python",
   "name": "python",
   "nbconvert_exporter": "python",
   "pygments_lexer": "ipython3",
   "version": "3.11.5"
  }
 },
 "nbformat": 4,
 "nbformat_minor": 2
}
