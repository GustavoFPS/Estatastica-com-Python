{
 "cells": [
  {
   "cell_type": "code",
   "execution_count": 1,
   "metadata": {},
   "outputs": [],
   "source": [
    "import numpy as np\n",
    "def y(ti, dti,la = None, lb = None, Na, Nb): \n",
    "    return Na*np.exp(-la*ti)*(1 - np.exp(-la*dti))+Nb*np.exp(-lb*ti)*(1 - np.exp(-lb*dti))"
   ]
  },
  {
   "cell_type": "code",
   "execution_count": null,
   "metadata": {},
   "outputs": [],
   "source": [
    "\n",
    "la = 0.203\n",
    "lb = 0.92\n",
    "D = 0.001\n",
    "\n",
    "la1 = la + D\n",
    "lb2 = lb + D\n",
    "\n",
    "V_l = (10**(-4))*np.array([[0.81, 0], [0, 3.24]])\n",
    "\n",
    "N, V_y = curve_fit(y(la = la, lb = lb), (ti, dti), y_data, absolute_sigma = True, sigma = s_y)\n",
    "N1, V_y1 = curve_fit(y(la = la1, lb = lb), (ti, dti), y_data, absolute_sigma = True, sigma = s_y)\n",
    "N2, V_y2 = curve_fit(y(la = la, lb = lb2), (ti, dti), y_data, absolute_sigma = True, sigma = s_y)\n",
    "\n",
    "N_a, N_b = N\n",
    "N_1a, N_1b = N1\n",
    "N_2a, N_2b = N \n",
    "\n",
    "partial_Na_la = (N_1a - N_a)/D\n",
    "partial_Na_lb = (N_2a - N_a)/D\n",
    "\n",
    "partial_Nb_la = (N_1b - N_b)/D\n",
    "partial_Nb_lb = (N_2b - N_b)/D\n",
    "\n",
    "\n"
   ]
  }
 ],
 "metadata": {
  "kernelspec": {
   "display_name": "base",
   "language": "python",
   "name": "python3"
  },
  "language_info": {
   "codemirror_mode": {
    "name": "ipython",
    "version": 3
   },
   "file_extension": ".py",
   "mimetype": "text/x-python",
   "name": "python",
   "nbconvert_exporter": "python",
   "pygments_lexer": "ipython3",
   "version": "3.8.8"
  }
 },
 "nbformat": 4,
 "nbformat_minor": 2
}
