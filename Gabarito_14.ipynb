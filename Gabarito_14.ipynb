{
 "cells": [
  {
   "cell_type": "markdown",
   "metadata": {},
   "source": [
    "Num tubo de raios X, um elétron acelerado pode ceder toda a sua energia cinética \n",
    "emitindo um único fóton, correspondente à radiação X. Suponha que esse seja o caso \n",
    "de um elétron com energia cinética de 50 keV. Determine: \n",
    "a. A velocidade do elétron; \n",
    "b. A velocidade do fóton de raios X emitido nesse processo; \n",
    "c. O comprimento de onda da radiação X produzida; \n",
    "Observação: suponha que o elétron pode ser tratado como partícula \n",
    "não-relativística nesse problema."
   ]
  },
  {
   "cell_type": "code",
   "execution_count": 4,
   "metadata": {},
   "outputs": [
    {
     "name": "stdout",
     "output_type": "stream",
     "text": [
      "A) v =  1.327e+08 m/s\n",
      "B) c =  3.0  10^8 m/s\n",
      "C) \\lambda =  2.481e-11 m Ou \\lambda =  0.02481 nm\n"
     ]
    }
   ],
   "source": [
    "import numpy as np\n",
    "\n",
    "E = 50*1000 #eV\n",
    "h = 4.135*10**(-15) #ev.s\n",
    "c = 3*10**8 #m/s\n",
    "\n",
    "m_e = 0.511*10**(6)/ c**2 #eV\n",
    "\n",
    "v = np.sqrt(2*E/m_e) #m/s\n",
    "\n",
    "lam = h*c/E #m \n",
    "\n",
    "print(f\"A) v =  {v:.3e} m/s\")\n",
    "print(\"B) c = \", c*10**(-8), \" 10^8 m/s\")\n",
    "print(\"C) \\lambda = \", lam, \"m\", \"Ou \\lambda = \", lam*10**9, \"nm\")\n"
   ]
  },
  {
   "cell_type": "markdown",
   "metadata": {},
   "source": [
    "O contraste entre diferentes tecidos em imagens radiográficas é obtido porque \n",
    "ao atravessar a região de interesse do corpo, o feixe de raios X é atenuado de \n",
    "maneiras distintas de acordo com a espessura, densidade e números atômicos \n",
    "da região do corpo. \n",
    "\n",
    "Sendo assim, suponha que um feixe de raios X \n",
    "monocromático com 100 keV de energia e 5 × 1012 fótons por segundo é \n",
    "utilizado para atravessar dois materiais distintos. O primeiro material é um \n",
    "simulador de tecido mole de 5 cm de espessura que para raios X de 100 keV \n",
    "possui coeficiente de atenuação linear 𝜇 = 0,179 cm−1. O segundo material é \n",
    "um simulador de osso de 5 cm de espessura que para raios X de 100 keV \n",
    "possui coeficiente de atenuação linear 𝜇 = 0,355 cm−1\n",
    ". \n",
    "a. Calcule a porcentagem de fótons do feixe que é atenuada por cada um \n",
    "dos materiais. \n",
    "b. Observando os resultados do item anterior, é esperado que o osso \n",
    "tenha um bom contraste na imagem radiográfica em relação ao tecido \n",
    "mole? Justifique sua resposta."
   ]
  },
  {
   "cell_type": "code",
   "execution_count": 6,
   "metadata": {},
   "outputs": [
    {
     "name": "stdout",
     "output_type": "stream",
     "text": [
      "A) O primeiro material atenua 59.14% da radiação \n",
      " enquanto o segundo atenua 83.05% da radiação.\n"
     ]
    }
   ],
   "source": [
    "E = 100*1000 #eV\n",
    "taxa = 5*10**12 #fotons/s\n",
    "\n",
    "x = 5 #cm\n",
    "u1 = 0.179 #cm^-1\n",
    "u2 = 0.355 #cm^-1\n",
    "\n",
    "A1 = 100*(1 - np.exp(-u1*x))\n",
    "A2 = 100*(1 - np.exp(-u2*x))\n",
    "\n",
    "print(f\"A) O primeiro material atenua {A1:.2f}% da radiação \\n enquanto o segundo atenua {A2:.2f}% da radiação.\")\n",
    "\n",
    "\n",
    "\n",
    "\n"
   ]
  }
 ],
 "metadata": {
  "kernelspec": {
   "display_name": "base",
   "language": "python",
   "name": "python3"
  },
  "language_info": {
   "codemirror_mode": {
    "name": "ipython",
    "version": 3
   },
   "file_extension": ".py",
   "mimetype": "text/x-python",
   "name": "python",
   "nbconvert_exporter": "python",
   "pygments_lexer": "ipython3",
   "version": "2021.5.undefined"
  }
 },
 "nbformat": 4,
 "nbformat_minor": 2
}
