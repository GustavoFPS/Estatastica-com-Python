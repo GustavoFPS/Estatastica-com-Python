{
  "nbformat": 4,
  "nbformat_minor": 0,
  "metadata": {
    "colab": {
      "provenance": [],
      "mount_file_id": "1T3wk5PVAB-R1HDB4UDDiui4pgJYDZAcH",
      "authorship_tag": "ABX9TyM7j2kVeqEGyQPVZhNiQmMK",
      "include_colab_link": true
    },
    "kernelspec": {
      "name": "python3",
      "display_name": "Python 3"
    },
    "language_info": {
      "name": "python"
    }
  },
  "cells": [
    {
      "cell_type": "markdown",
      "metadata": {
        "id": "view-in-github",
        "colab_type": "text"
      },
      "source": [
        "<a href=\"https://colab.research.google.com/github/GustavoFPS/Estatistica-com-Python/blob/main/TEFE3.ipynb\" target=\"_parent\"><img src=\"https://colab.research.google.com/assets/colab-badge.svg\" alt=\"Open In Colab\"/></a>"
      ]
    },
    {
      "cell_type": "code",
      "source": [
        "import numpy as np\n",
        "def DerivativeSigmoide(t, a, b, c):\n",
        "    '''\n",
        "    Função para o cálculo das derivadas parciais para a função Sigmói\n",
        "    '''\n",
        "    denominador = (1+np.exp(-b*(t-c)))**2\n",
        "    dsda = 1/np.sqrt(denominador)\n",
        "    dsdb = (a*(t-c)*np.exp(-b*(t-c)))/denominador\n",
        "    dsdc = -(a*b*np.exp(-b*(t-c)))/denominador\n",
        "    return np.array([dsda, dsdb, dsdc]).T\n",
        "\n",
        "def DerivativeGompertz(t, d, f, h):\n",
        "    '''\n",
        "    Função para o cálculo das derivadas parciais para a função de Gom\n",
        "    '''\n",
        "    dgdd = np.exp(-f*np.exp(-h*t))\n",
        "    dgdf = -d*np.exp(-h*t)*np.exp(-f*np.exp(-h*t))\n",
        "    dgdh = d*f*t*np.exp(-h*t)*np.exp(-f*np.exp(-h*t))\n",
        "    return np.array([dgdd, dgdf, dgdh]).T\n",
        "def H_Matrix(func_derivative, t, V, y_data, *params):\n",
        "    '''\n",
        "    Realiza do cálculo da matriz H\n",
        "    Imput -> Função das derivadas parciais da função desejada\n",
        "    variável independente -> t\n",
        "    vetor das variancias experimentias - V\n",
        "    *params -> valores dos parâmetros quais a função das der\n",
        "    '''\n",
        "    X = func_derivative(t, *params)\n",
        "    V_inv = np.linalg.inv(np.diag(V))\n",
        "    cov = np.linalg.inv(X.T @ V_inv @ X)\n",
        "    H = X @ cov @ X.T@V_inv\n",
        "    Var_Res = (np.diag(np.ones(shape = len(V))) - H)@np.diag(V)\n",
        "    res = (np.diag(np.ones(shape = len(V))) - H)@y_data\n",
        "    return H, cov, Var_Res, res\n",
        "\n",
        "def latex(array_numpy, num_casas_decimais = 2):\n",
        "  '''\n",
        "  '''\n",
        "\n",
        "  # Formata a matriz com o número de casas decimais especificado\n",
        "  array_formatado = np.around(array_numpy, decimals=num_casas_decimais)\n",
        "\n",
        "  # Converte a matriz para uma string latex\n",
        "  latex_matrix = np.array2string(array_formatado, separator=' &',\n",
        "                                 suppress_small=True,\n",
        "                                 formatter={'float_kind': lambda x: \"{:.{}f}\".format(x, num_casas_decimais)}).replace('[', '').replace(']', '').replace('\\n', '\\\\\\\\\\n').replace(' ', '')\n",
        "  latex_matrix = '\\\\begin{bmatrix}\\n' + latex_matrix + '\\n\\\\end{bmatrix}'\n",
        "\n",
        "  return latex_matrix\n"
      ],
      "metadata": {
        "id": "6V3kLCflCnaL"
      },
      "execution_count": null,
      "outputs": []
    },
    {
      "cell_type": "code",
      "source": [
        "from google.colab import drive\n",
        "drive.mount('/content/drive')"
      ],
      "metadata": {
        "colab": {
          "base_uri": "https://localhost:8080/",
          "height": 304
        },
        "id": "6ztxZCorf0Ll",
        "outputId": "4e4bf4be-dac9-46ef-b1b0-455e40b57f3e"
      },
      "execution_count": null,
      "outputs": [
        {
          "output_type": "error",
          "ename": "MessageError",
          "evalue": "Error: credential propagation was unsuccessful",
          "traceback": [
            "\u001b[0;31m---------------------------------------------------------------------------\u001b[0m",
            "\u001b[0;31mMessageError\u001b[0m                              Traceback (most recent call last)",
            "\u001b[0;32m<ipython-input-2-d5df0069828e>\u001b[0m in \u001b[0;36m<cell line: 2>\u001b[0;34m()\u001b[0m\n\u001b[1;32m      1\u001b[0m \u001b[0;32mfrom\u001b[0m \u001b[0mgoogle\u001b[0m\u001b[0;34m.\u001b[0m\u001b[0mcolab\u001b[0m \u001b[0;32mimport\u001b[0m \u001b[0mdrive\u001b[0m\u001b[0;34m\u001b[0m\u001b[0;34m\u001b[0m\u001b[0m\n\u001b[0;32m----> 2\u001b[0;31m \u001b[0mdrive\u001b[0m\u001b[0;34m.\u001b[0m\u001b[0mmount\u001b[0m\u001b[0;34m(\u001b[0m\u001b[0;34m'/content/drive'\u001b[0m\u001b[0;34m)\u001b[0m\u001b[0;34m\u001b[0m\u001b[0;34m\u001b[0m\u001b[0m\n\u001b[0m",
            "\u001b[0;32m/usr/local/lib/python3.10/dist-packages/google/colab/drive.py\u001b[0m in \u001b[0;36mmount\u001b[0;34m(mountpoint, force_remount, timeout_ms, readonly)\u001b[0m\n\u001b[1;32m     98\u001b[0m \u001b[0;32mdef\u001b[0m \u001b[0mmount\u001b[0m\u001b[0;34m(\u001b[0m\u001b[0mmountpoint\u001b[0m\u001b[0;34m,\u001b[0m \u001b[0mforce_remount\u001b[0m\u001b[0;34m=\u001b[0m\u001b[0;32mFalse\u001b[0m\u001b[0;34m,\u001b[0m \u001b[0mtimeout_ms\u001b[0m\u001b[0;34m=\u001b[0m\u001b[0;36m120000\u001b[0m\u001b[0;34m,\u001b[0m \u001b[0mreadonly\u001b[0m\u001b[0;34m=\u001b[0m\u001b[0;32mFalse\u001b[0m\u001b[0;34m)\u001b[0m\u001b[0;34m:\u001b[0m\u001b[0;34m\u001b[0m\u001b[0;34m\u001b[0m\u001b[0m\n\u001b[1;32m     99\u001b[0m   \u001b[0;34m\"\"\"Mount your Google Drive at the specified mountpoint path.\"\"\"\u001b[0m\u001b[0;34m\u001b[0m\u001b[0;34m\u001b[0m\u001b[0m\n\u001b[0;32m--> 100\u001b[0;31m   return _mount(\n\u001b[0m\u001b[1;32m    101\u001b[0m       \u001b[0mmountpoint\u001b[0m\u001b[0;34m,\u001b[0m\u001b[0;34m\u001b[0m\u001b[0;34m\u001b[0m\u001b[0m\n\u001b[1;32m    102\u001b[0m       \u001b[0mforce_remount\u001b[0m\u001b[0;34m=\u001b[0m\u001b[0mforce_remount\u001b[0m\u001b[0;34m,\u001b[0m\u001b[0;34m\u001b[0m\u001b[0;34m\u001b[0m\u001b[0m\n",
            "\u001b[0;32m/usr/local/lib/python3.10/dist-packages/google/colab/drive.py\u001b[0m in \u001b[0;36m_mount\u001b[0;34m(mountpoint, force_remount, timeout_ms, ephemeral, readonly)\u001b[0m\n\u001b[1;32m    131\u001b[0m   )\n\u001b[1;32m    132\u001b[0m   \u001b[0;32mif\u001b[0m \u001b[0mephemeral\u001b[0m\u001b[0;34m:\u001b[0m\u001b[0;34m\u001b[0m\u001b[0;34m\u001b[0m\u001b[0m\n\u001b[0;32m--> 133\u001b[0;31m     _message.blocking_request(\n\u001b[0m\u001b[1;32m    134\u001b[0m         \u001b[0;34m'request_auth'\u001b[0m\u001b[0;34m,\u001b[0m\u001b[0;34m\u001b[0m\u001b[0;34m\u001b[0m\u001b[0m\n\u001b[1;32m    135\u001b[0m         \u001b[0mrequest\u001b[0m\u001b[0;34m=\u001b[0m\u001b[0;34m{\u001b[0m\u001b[0;34m'authType'\u001b[0m\u001b[0;34m:\u001b[0m \u001b[0;34m'dfs_ephemeral'\u001b[0m\u001b[0;34m}\u001b[0m\u001b[0;34m,\u001b[0m\u001b[0;34m\u001b[0m\u001b[0;34m\u001b[0m\u001b[0m\n",
            "\u001b[0;32m/usr/local/lib/python3.10/dist-packages/google/colab/_message.py\u001b[0m in \u001b[0;36mblocking_request\u001b[0;34m(request_type, request, timeout_sec, parent)\u001b[0m\n\u001b[1;32m    174\u001b[0m       \u001b[0mrequest_type\u001b[0m\u001b[0;34m,\u001b[0m \u001b[0mrequest\u001b[0m\u001b[0;34m,\u001b[0m \u001b[0mparent\u001b[0m\u001b[0;34m=\u001b[0m\u001b[0mparent\u001b[0m\u001b[0;34m,\u001b[0m \u001b[0mexpect_reply\u001b[0m\u001b[0;34m=\u001b[0m\u001b[0;32mTrue\u001b[0m\u001b[0;34m\u001b[0m\u001b[0;34m\u001b[0m\u001b[0m\n\u001b[1;32m    175\u001b[0m   )\n\u001b[0;32m--> 176\u001b[0;31m   \u001b[0;32mreturn\u001b[0m \u001b[0mread_reply_from_input\u001b[0m\u001b[0;34m(\u001b[0m\u001b[0mrequest_id\u001b[0m\u001b[0;34m,\u001b[0m \u001b[0mtimeout_sec\u001b[0m\u001b[0;34m)\u001b[0m\u001b[0;34m\u001b[0m\u001b[0;34m\u001b[0m\u001b[0m\n\u001b[0m",
            "\u001b[0;32m/usr/local/lib/python3.10/dist-packages/google/colab/_message.py\u001b[0m in \u001b[0;36mread_reply_from_input\u001b[0;34m(message_id, timeout_sec)\u001b[0m\n\u001b[1;32m    101\u001b[0m     ):\n\u001b[1;32m    102\u001b[0m       \u001b[0;32mif\u001b[0m \u001b[0;34m'error'\u001b[0m \u001b[0;32min\u001b[0m \u001b[0mreply\u001b[0m\u001b[0;34m:\u001b[0m\u001b[0;34m\u001b[0m\u001b[0;34m\u001b[0m\u001b[0m\n\u001b[0;32m--> 103\u001b[0;31m         \u001b[0;32mraise\u001b[0m \u001b[0mMessageError\u001b[0m\u001b[0;34m(\u001b[0m\u001b[0mreply\u001b[0m\u001b[0;34m[\u001b[0m\u001b[0;34m'error'\u001b[0m\u001b[0;34m]\u001b[0m\u001b[0;34m)\u001b[0m\u001b[0;34m\u001b[0m\u001b[0;34m\u001b[0m\u001b[0m\n\u001b[0m\u001b[1;32m    104\u001b[0m       \u001b[0;32mreturn\u001b[0m \u001b[0mreply\u001b[0m\u001b[0;34m.\u001b[0m\u001b[0mget\u001b[0m\u001b[0;34m(\u001b[0m\u001b[0;34m'data'\u001b[0m\u001b[0;34m,\u001b[0m \u001b[0;32mNone\u001b[0m\u001b[0;34m)\u001b[0m\u001b[0;34m\u001b[0m\u001b[0;34m\u001b[0m\u001b[0m\n\u001b[1;32m    105\u001b[0m \u001b[0;34m\u001b[0m\u001b[0m\n",
            "\u001b[0;31mMessageError\u001b[0m: Error: credential propagation was unsuccessful"
          ]
        }
      ]
    },
    {
      "cell_type": "code",
      "source": [
        "import pandas as pd\n",
        "import os\n",
        "data = pd.read_csv(\"/content/drive/My Drive/Colab Notebooks/dadosAtividadePratica3.dat\", delimiter='\\t')\n",
        "print(data)"
      ],
      "metadata": {
        "id": "QvLMnmygfpim"
      },
      "execution_count": null,
      "outputs": []
    },
    {
      "cell_type": "markdown",
      "source": [
        "Estimando (a)"
      ],
      "metadata": {
        "id": "rR2H9ufIOgtd"
      }
    },
    {
      "cell_type": "code",
      "execution_count": null,
      "metadata": {
        "id": "MFpj7lNN-p2F"
      },
      "outputs": [],
      "source": [
        "import numpy as np\n",
        "from scipy.optimize import curve_fit\n",
        "import matplotlib.pyplot as plt\n",
        "\n",
        "# Definindo a função sigmoide\n",
        "def sigmoid(t, a, b, c):\n",
        "    return a / (1 + np.exp(-b * (t - c)))\n",
        "\n",
        "# importa os dados e os chutes iniciais\n",
        "t_data = data['t']\n",
        "y_data = data[' y ']\n",
        "s_y = data['sigma']\n",
        "\n",
        "a = 18\n",
        "b = 0.3\n",
        "c = 12\n",
        "\n",
        "\n",
        "# Calculando os valores da função sigmoide\n",
        "y2_data = sigmoid(t_data, a, b, c)\n",
        "\n",
        "# Plot\n",
        "plt.scatter(t_data, y_data, label='Dados', color = 'r')\n",
        "plt.plot(t_data, y2_data, label=f'Sigmoide(a={a}, b={b}, c={c})')\n",
        "plt.xlabel('t')\n",
        "plt.ylabel('s(t)')\n",
        "plt.title('Função Sigmoide')\n",
        "plt.legend()\n",
        "plt.show()\n"
      ]
    },
    {
      "cell_type": "markdown",
      "source": [
        "Estimativa de a, b e c"
      ],
      "metadata": {
        "id": "E-wRYEDNOsfm"
      }
    },
    {
      "cell_type": "code",
      "source": [
        "chute = [a, b, c]\n",
        "\n",
        "# Fit\n",
        "popt, V_y = curve_fit(sigmoid, t_data, y_data, chute, absolute_sigma = True, sigma = s_y, jac = DerivativeSigmoide)\n",
        "a, b, c = popt[0], popt[1], popt[2]\n",
        "\n",
        "params_sig = [a, b, c]\n",
        "\n",
        "# Parâmetros ajustados\n",
        "print(f\"Parâmetros ajustados: a: {popt[0]} +- {V_y[0][0]**0.5}, b:{popt[1]}+- {V_y[1][1]**0.5} e c:{popt[2]}+- {V_y[2][2]**0.5}\" )\n",
        "\n",
        "\n",
        "# residuos\n",
        "H, V_p, V_r, res = H_Matrix(DerivativeSigmoide, t_data, s_y, y_data, *params_sig)\n",
        "\n",
        "\n",
        "norm_res = res / np.sqrt(np.diag(V_r))\n",
        "\n",
        "S = res.T @ np.linalg.inv(np.diag(s_y)) @ res\n",
        "\n",
        "# chi2\n",
        "chi2_sig = np.sum(((y_data - sigmoid(t_data,  a,b, c))**2)/(s_y**2))\n",
        "N_u = len(t_data) - len(params_sig) # graus de liberdade\n",
        "print('chi^2:', chi2_sig, 'chi_red²:', np.round(chi2_sig/N_u, 2), 'S : ', S, ' N - u: ', N_u)\n",
        "\n",
        "\n",
        "# Plot\n",
        "fig, (ax1, ax2) = plt.subplots(nrows = 2, ncols = 1, sharex = True,\n",
        "                               figsize=(10, 8), gridspec_kw={'height_ratios': [3, 1]})\n",
        "\n",
        "ax1.scatter(t_data, y_data, label='Dados')\n",
        "ax1.plot(t_data, sigmoid(t_data, *popt), color='red',label=f'Ajuste (a={np.round(a, 2)}, b={np.round(b, 3)}, c={np.round(c, 2)})')\n",
        "ax1.legend()\n",
        "ax1.errorbar(t_data, y_data, yerr=s_y,fmt=\"o\", label=\"Dados Experimentais\")\n",
        "ax1.set_title(\"Sigmoide\")\n",
        "ax2.scatter(t_data, norm_res)\n",
        "ax2.hlines(y=0, xmin = 0, xmax = max(t_data), color = \"r\", linestyle = \"-.\")\n",
        "ax2.errorbar(t_data, norm_res, yerr= 1, fmt='none')\n",
        "ax2.set_ylabel(\"Resíduo normalizado\")\n",
        "plt.xlabel(\"t (s)\")\n",
        "fig.subplots_adjust(hspace=0.02)\n",
        "plt.show()\n",
        "\n"
      ],
      "metadata": {
        "id": "sXRdu_wYOrsj"
      },
      "execution_count": null,
      "outputs": []
    },
    {
      "cell_type": "code",
      "source": [
        "print(latex(V_y, 5))"
      ],
      "metadata": {
        "id": "JTuAfXDdOLn0"
      },
      "execution_count": null,
      "outputs": []
    },
    {
      "cell_type": "code",
      "source": [
        "import numpy as np\n",
        "from scipy.optimize import curve_fit\n",
        "import matplotlib.pyplot as plt\n",
        "\n",
        "# Definindo a função de Gompertz\n",
        "def gompertz(t, d, g, h):\n",
        "    return d * np.exp(-g * np.exp(-h * t))\n",
        "\n",
        "#importando os dados e os chutes iniciais\n",
        "t_data = data['t']\n",
        "y_data = data[' y ']\n",
        "s_y = data['sigma']\n",
        "\n",
        "d = 24\n",
        "g = 7\n",
        "h = 0.15\n",
        "\n",
        "\n",
        "# Calculando os valores da função sigmoide\n",
        "y2_data = gompertz(t_data, d, g, h)\n",
        "\n",
        "# Plot\n",
        "plt.scatter(t_data, y_data, label='Dados', color = 'r')\n",
        "plt.plot(t_data, y2_data, label=f'Gompertz(d={d}, g={g}, h={h})')\n",
        "plt.xlabel('t')\n",
        "plt.ylabel('g(t)')\n",
        "plt.title('Função de Gompertz')\n",
        "plt.legend()\n",
        "plt.show()\n",
        "\n"
      ],
      "metadata": {
        "id": "zbO84Ugl-6Qc"
      },
      "execution_count": null,
      "outputs": []
    },
    {
      "cell_type": "code",
      "source": [
        "chute = [d, g, h]\n",
        "\n",
        "# Ajuste de curva\n",
        "popt, V_yg = curve_fit(gompertz, t_data, y_data, chute, absolute_sigma = True, sigma = s_y, jac = DerivativeGompertz)\n",
        "d, g, h = popt[0], popt[1], popt[2]\n",
        "\n",
        "# Parâmetros\n",
        "params = [d, g, h]\n",
        "print(f\"Parâmetros ajustados: d: {popt[0]}+- {V_yg[0][0]**0.5}, g:{popt[1]}+- {V_yg[1][1]**0.5} e h:{popt[2]}+- {V_yg[2][2]**0.5}\" )\n",
        "\n",
        "# Residuos\n",
        "H, V_p, V_r, res = H_Matrix(DerivativeGompertz, t_data, s_y, y_data, *params)\n",
        "\n",
        "norm_res = res / np.sqrt(np.diag(V_r))\n",
        "\n",
        "S = res.T @ np.linalg.inv(np.diag(s_y)) @ res\n",
        "\n",
        "# chi2\n",
        "chi2_gom = np.sum(((y_data - gompertz(t_data,  d,g, h))**2)/(s_y**2))\n",
        "\n",
        "print('chi^2:', chi2_gom, 'chi_red²: ', np.round(chi2_gom/N_u,2),  'S : ', S, ' N - u: ', N_u)\n",
        "\n",
        "# plot\n",
        "fig, (ax1, ax2) = plt.subplots(nrows = 2, ncols = 1, sharex = True,\n",
        "                               figsize=(10, 8), gridspec_kw={'height_ratios': [3, 1]})\n",
        "\n",
        "\n",
        "ax1.scatter(t_data, y_data, label='Dados')\n",
        "ax1.plot(t_data, gompertz(t_data, *popt), label=f'Ajuste (d={np.round(popt[0], 2)}, g={np.round(popt[1], 2)}, h:{np.round(popt[2], 2)})', color='red')\n",
        "ax1.legend()\n",
        "ax1.errorbar(t_data, y_data, yerr=s_y,fmt=\"o\", label=\"Dados Experimentais\")\n",
        "\n",
        "ax2.scatter(t_data, norm_res)\n",
        "ax2.hlines(y=0, xmin = 0, xmax = max(t_data), color = \"r\", linestyle = \"-.\")\n",
        "ax2.errorbar(t_data, norm_res, yerr= 1, fmt='none')\n",
        "ax2.set_ylabel(\"Resíduo normalizado\")\n",
        "plt.xlabel(\"t (s)\")\n",
        "fig.subplots_adjust(hspace=0.02)\n",
        "ax1.set_title('Gompertz')\n",
        "plt.show()"
      ],
      "metadata": {
        "id": "V57gy51Qj-I-"
      },
      "execution_count": null,
      "outputs": []
    },
    {
      "cell_type": "code",
      "source": [
        "print(latex(V_yg, 6))"
      ],
      "metadata": {
        "id": "viTNq6BcONo4"
      },
      "execution_count": null,
      "outputs": []
    },
    {
      "cell_type": "code",
      "source": [
        "# função soma quadrada dos resíduos\n",
        "def Q(sigmoid, a, b, c, t_data, y_data, s_y, modo = 'ab'):\n",
        "  if modo == 'ab':\n",
        "    Z = np.zeros_like(a)\n",
        "    for i in range(b.shape[0]):\n",
        "      for j in range(b.shape[1]):\n",
        "            Z[i, j] = np.sum(((y_data - sigmoid(t_data, a[i, j], b[i, j], c))**2)/(s_y**2))\n",
        "\n",
        "  elif modo == 'cb':\n",
        "    Z = np.zeros_like(b)\n",
        "    for i in range(b.shape[0]):\n",
        "      for j in range(b.shape[1]):\n",
        "            Z[i, j] = np.sum(((y_data - sigmoid(t_data, a, b[i, j], c[i, j]))**2)/(s_y**2))\n",
        "\n",
        "  elif modo == 'ac':\n",
        "    Z = np.zeros_like(a)\n",
        "    for i in range(a.shape[0]):\n",
        "      for j in range(a.shape[1]):\n",
        "            Z[i, j] = np.sum(((y_data - sigmoid(t_data,  a[i, j], b , c[i, j]))**2)/(s_y**2))\n",
        "  return Z\n",
        "\n",
        "a_values = np.linspace(17.5, 18.5, 100)\n",
        "b_values = np.linspace(0.2, 0.4, 100)\n",
        "c_values = np.linspace(10.5, 13.5, 100)\n",
        "\n",
        "A_1, B_1 = np.meshgrid( a_values, b_values)\n",
        "C_2, B_2 = np.meshgrid( c_values, b_values)\n",
        "A_3, C_3 = np.meshgrid( a_values, c_values)\n",
        "\n",
        "a, b, c = params_sig"
      ],
      "metadata": {
        "id": "hLGIJMMfDzD0"
      },
      "execution_count": null,
      "outputs": []
    },
    {
      "cell_type": "code",
      "source": [
        "Z1 = Q(sigmoid, A_1, B_1, c, t_data, y_data, s_y, modo  = 'ab')"
      ],
      "metadata": {
        "id": "UWTufmn_kVvv"
      },
      "execution_count": null,
      "outputs": []
    },
    {
      "cell_type": "code",
      "source": [
        "Z2 = Q(sigmoid, a, B_2, C_2, t_data, y_data, s_y, modo  = 'cb')"
      ],
      "metadata": {
        "id": "T1BbXH28kai_"
      },
      "execution_count": null,
      "outputs": []
    },
    {
      "cell_type": "code",
      "source": [
        "Z3 = Q(sigmoid, A_3, b, C_3, t_data, y_data, s_y, modo  = 'ac')"
      ],
      "metadata": {
        "id": "mG-Mxmr8keLd"
      },
      "execution_count": null,
      "outputs": []
    },
    {
      "cell_type": "code",
      "source": [
        "\n",
        "from mpl_toolkits.axes_grid1 import make_axes_locatable\n",
        "\n",
        "# Níveis\n",
        "contour_levels = []\n",
        "for n in range (0, 6):\n",
        "  contour_levels.append(chi2_sig + n**2)\n",
        "\n",
        "\n",
        "# Plot\n",
        "fig, (ax1, ax2, ax3) = plt.subplots(nrows = 1, ncols = 3, sharex = False,\n",
        "                                    figsize=(20, 8))\n",
        "\n",
        "ax1.contour(A_1, B_1, Z1, levels=contour_levels, colors='red')\n",
        "ax1.contourf(A_1, B_1, Z1, levels=contour_levels, cmap='twilight')\n",
        "ax1.set_ylim(0.28, 0.32)\n",
        "ax1.set_xlim(17.6, 18.3)\n",
        "ax1.set_xlabel('a')\n",
        "ax1.set_ylabel('b')\n",
        "ax1.grid(True)\n",
        "\n",
        "\n",
        "ax2.contour(B_2, C_2, Z2, levels=contour_levels, colors='red')\n",
        "ax2.contourf(B_2, C_2, Z2, levels=contour_levels, cmap='twilight')\n",
        "ax2.set_ylim(11.75, 12.25)\n",
        "ax2.set_xlim(0.28, 0.32)\n",
        "ax2.set_xlabel('b')\n",
        "ax2.set_ylabel('c')\n",
        "ax2.grid(True)\n",
        "\n",
        "ax3.contour(A_3, C_3, Z3, levels=contour_levels, colors='red')\n",
        "contour = ax3.contourf(A_3, C_3, Z3, levels=contour_levels, cmap='twilight')\n",
        "ax3.set_ylim(11.75, 12.25)\n",
        "ax3.set_xlim(17.6, 18.3)\n",
        "ax3.set_xlabel('a')\n",
        "ax3.set_ylabel('c')\n",
        "ax3.grid(True)\n",
        "\n",
        "# Barra de cores\n",
        "divider = make_axes_locatable(ax3)\n",
        "cax = divider.append_axes(\"right\", size=\"5%\", pad=0.1)\n",
        "cbar = plt.colorbar(contour, cax=cax)\n",
        "\n",
        "# Titulos\n",
        "fig.suptitle('Curvas de nível para Sigmoide', fontsize=16)\n",
        "cbar.set_label('Chi²')\n",
        "\n",
        "\n",
        "plt.show()\n"
      ],
      "metadata": {
        "id": "Wo8FpciBF9KD"
      },
      "execution_count": null,
      "outputs": []
    },
    {
      "cell_type": "code",
      "source": [
        "import numpy as np\n",
        "import matplotlib.pyplot as plt\n",
        "from scipy.stats import chi2\n",
        "\n",
        "graus_de_liberdade = N_u  # Graus de liberdade (k)\n",
        "valor_q = chi2_gom  # Valor para o qual você deseja calcular a CDF\n",
        "\n",
        "cdf_valor = chi2.cdf(valor_q, graus_de_liberdade)\n",
        "print(f\"A CDF para ChiSquare({graus_de_liberdade}) com valor {valor_q:.2f} é {cdf_valor:.16f}\")"
      ],
      "metadata": {
        "id": "AbOn9L-sd42e"
      },
      "execution_count": null,
      "outputs": []
    },
    {
      "cell_type": "code",
      "source": [
        "import scipy.stats as stats\n",
        "\n",
        "#limites\n",
        "nivel_significancia_inf = 0.01\n",
        "nivel_significancia_sup = 0.95\n",
        "\n",
        "graus_de_liberdade = N_u\n",
        "\n",
        "chi_red = chi2_sig / N_u\n",
        "\n",
        "\n",
        "# valores críticos\n",
        "valor_critico_inf = stats.chi2.ppf(nivel_significancia_inf, graus_de_liberdade)\n",
        "valor_critico_sup = stats.chi2.ppf(nivel_significancia_sup, graus_de_liberdade)\n",
        "\n",
        "qui_quadrado_reduzido_minimo_inf = valor_critico_inf / graus_de_liberdade\n",
        "qui_quadrado_reduzido_minimo_sup = valor_critico_sup / graus_de_liberdade\n",
        "\n",
        "print(f\"Qui-quadrado reduzido: {qui_quadrado_reduzido_minimo_inf:.4f} <= {chi_red:.4f} <= {qui_quadrado_reduzido_minimo_sup:.4f}\")\n"
      ],
      "metadata": {
        "id": "TWTJeTdefBH0"
      },
      "execution_count": null,
      "outputs": []
    }
  ]
}